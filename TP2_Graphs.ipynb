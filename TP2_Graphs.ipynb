{
 "cells": [
  {
   "cell_type": "code",
   "execution_count": 1,
   "metadata": {},
   "outputs": [],
   "source": [
    "import numpy as np\n",
    "import pandas as pd\n",
    "from scipy.stats import multivariate_normal\n",
    "import matplotlib.pyplot as plt\n",
    "plt.rcParams[\"figure.figsize\"] = [16,8]"
   ]
  },
  {
   "cell_type": "code",
   "execution_count": 2,
   "metadata": {},
   "outputs": [],
   "source": [
    "# [Optional]\n",
    "# This package allows to visualize the progress during a loop and estimate the remaining time of execution\n",
    "# If you don't want to install it, please search for pbar = tqdm(total = t_max), pbar.update(1) and pbar.close() \n",
    "#code lines and delete them\n",
    "\n",
    "from tqdm import tqdm_notebook as tqdm"
   ]
  },
  {
   "cell_type": "markdown",
   "metadata": {},
   "source": [
    "# <font color='color'> Introduction </font>"
   ]
  },
  {
   "cell_type": "markdown",
   "metadata": {},
   "source": [
    "During this Practical work, we are going to first generate data following a GMM model, and then we are going to implement an EM algorithm in order to infer the GMM model parameters. First, let's introduce a GMM model :\n",
    "\n",
    "A Gaussian mixture model is a probabilistic model that assumes all the data points are generated from a mixture of a finite number of Gaussian distributions with unknown parameters. One can think of mixture models as generalizing k-means clustering to incorporate information about the covariance structure of the data as well as the centers of the latent Gaussians : \n",
    "\n",
    "\\begin{align}\n",
    "X_i &\\sim GMM(\\mu_{1:K}, \\Sigma_{1:K}, \\pi_{1:K}) \\\\\n",
    "\\end{align}\n",
    "With : \n",
    "\n",
    "* $K$ : number of gaussian\n",
    "\n",
    "* $\\mu_{k}$ : mean of the kth gaussian\n",
    "\n",
    "* $\\Sigma_k$ : cov matrix of the kth gaussian\n",
    "\n",
    "* $\\pi_k$ : weight of the kth gaussian, $\\sum_{k=1}^{K} \\pi_k = 1$\n"
   ]
  },
  {
   "cell_type": "markdown",
   "metadata": {},
   "source": [
    "# <font color='color'> Question 1 : Numerically Stable computation of $\\gamma_i$ </font>\n"
   ]
  },
  {
   "cell_type": "markdown",
   "metadata": {},
   "source": [
    "In Gaussian Mixture Models, we often need to evaluate quantities that are defined as follows:\n",
    "\n",
    "\\begin{align}\n",
    "\\gamma_i(x) &= \\frac{\\pi_i\\mathcal{N}(x; \\mu_i,\\,\\Sigma_{i})\\,}{\\sum_{j=1}^K \\pi_j\\mathcal{N}(x; \\mu_j,\\,\\Sigma_{j})\\,}\n",
    "\\end{align}\n",
    "\n",
    "A direct computation of these quantities might be problematic in practice since all the terms ($\\pi_i\\mathcal{N}(x; \\mu_i,\\,\\Sigma_{i})\\,$) might be very small, and we might end up with 0/0. So, we need to find a numerically stable way to calculate $\\gamma_i(x)$. We can write $log(\\gamma_i(x))$ as : \n",
    "\n",
    "\\begin{align}\n",
    "log(\\gamma_i(x)) &= log(\\pi_i\\mathcal{N}(x; \\mu_i,\\,\\Sigma_{i})\\,) - log(\\sum_{j=1}^K \\pi_j\\mathcal{N}(x; \\mu_j,\\,\\Sigma_{j})\\,)\\\\\n",
    "                 &= log(l_i) - log(\\sum_{j=1}^K exp(l_j))\n",
    "\\end{align}"
   ]
  },
  {
   "cell_type": "markdown",
   "metadata": {},
   "source": [
    "### <font color='color'> 1.1 : Numerically Stable computation of $log(l_i)$ </font>\n"
   ]
  },
  {
   "cell_type": "markdown",
   "metadata": {},
   "source": [
    "In the expression of $log(l_i)$,\n",
    "\\begin{align}\n",
    "log(l_i) &= log(\\pi_i) - \\frac{N}{2}log(2\\pi) - \\frac{1}{2} log(Det(\\Sigma_i)) - \\frac{1}{2}(x - \\mu_i)^T\\Sigma_i^{-1}(x - \\mu_i) \\quad avec \\quad N = dim(x)\n",
    "\\end{align}\n",
    "\n",
    "We need to find a numercially stable way to compute $log(Det(\\Sigma_i))$. To do so, we can use **Cholesky factorization Theorem.** In fact, we have $\\Sigma_i$ is a Hermitian positive-definite matrix by definition. following Cholesky factorization Theorem, we can decompose $\\Sigma_i = LL^T$, with L a lower triangular matrix with real and positive diagonal entries. So, we can write $log(Det(\\Sigma_i))$ as following : \n",
    "\n",
    "\\begin{align}\n",
    "log(Det(\\Sigma_i)) &= log(Det(LL^T))\\\\\n",
    "                   &= log(Det(L)Det(L^T))\\\\\n",
    "                   &= 2log(Det(L))\\\\\n",
    "                   &= 2\\sum log(L_{jj})\n",
    "\\end{align}\n",
    "\n",
    "All we have to do is to find the values of $L_{jj}$. By a sample system, we obtain : \n",
    "\n",
    "\\begin{align}\n",
    "(\\Sigma_i)_{kj} &= (LL^T)_{kj}\\\\\n",
    "                   &= \\sum_{h=1}^{n}{l_{kh}l_{jh}} \\\\\n",
    "                   &= \\sum_{h=1}^{min (k,j)}{l_{kh}l_{jh}} \\quad because \\quad l_{pq}=0 \\quad if \\quad 1≤p<q≤n\\\\\n",
    "                   &= \\sum_{h=1}^{k}{l_{kh}l_{jh}} \\quad \\quad 1≤k≤j≤n\\\\\n",
    "\\end{align}\n",
    "\n",
    "We deduce that : \n",
    "\n",
    "* $(\\Sigma_i)_{11} = l_{11}l_{11} \\Longrightarrow$ $l_{11} = \\sqrt{(\\Sigma_i)_{11}}$\n",
    "\n",
    "* $(\\Sigma_i)_{1j} = l_{11}l_{j1} \\Longrightarrow$ $l_{j1} = \\frac{(\\Sigma_i)_{1j}}{l_{11}}$\n",
    "\n",
    "* $(\\Sigma_i)_{jj} =  l_{j1}l_{j1} + .. + l_{jj}l_{jj} \\Longrightarrow$ $l_{jj} = \\sqrt{(\\Sigma_i)_{jj} - \\sum_{h=1}^{j-1}{ l_{jh}^2}}$\n",
    "\n",
    "* $(\\Sigma_i)_{jk} =  l_{j1}l_{k1} + .. + l_{jj}l_{kj} \\Longrightarrow$ $l_{jk} = \\frac{(\\Sigma_i)_{jk} - \\sum_{h=1}^{j-1}{l_{jh}l_{kh}} }{l_{jj}}$\n",
    "\n",
    "\n",
    "<font color='color'> Remarque: </font> The calculation of $log(Det(\\Sigma_i))$ can be done using la commande numpy.linalg.slogdet(matrix)"
   ]
  },
  {
   "cell_type": "markdown",
   "metadata": {},
   "source": [
    "### <font color='color'> 1.2 : Numerically Stable computation of $log(\\sum exp(l_i))$ </font>\n"
   ]
  },
  {
   "cell_type": "markdown",
   "metadata": {},
   "source": [
    "To insure the stability of the computation, one method consists at introducing $l_{max} = max_i {l_i}$ in the expression of $L$ as following:\n",
    "\n",
    "\\begin{align}\n",
    "log(\\sum exp(l_i)) &= log(\\sum exp(l_i - l_{max} + l_{max})) \\\\\n",
    "           &= log( exp(l_{max})  \\sum exp(l_i - l_{max})) \\\\\n",
    "           &= l_{max} + log(\\sum exp(l_i - l_{max}))\n",
    "\\end{align}"
   ]
  },
  {
   "cell_type": "code",
   "execution_count": null,
   "metadata": {},
   "outputs": [],
   "source": []
  },
  {
   "cell_type": "code",
   "execution_count": 6,
   "metadata": {},
   "outputs": [],
   "source": [
    "def calculate_log_sum_exp(v):\n",
    "    \"\"\" \n",
    "    This function calculates the log of sum(exp(v)) on a numerically stable way\n",
    "    input :\n",
    "    v : vector N*1, dtype = ndarray(N*1)    \n",
    "    Output : \n",
    "    log(sum(exp(v))) : dtype = array\n",
    "    \"\"\"\n",
    "\n",
    "    v_max = np.max(v)\n",
    "    return v_max + np.log(np.sum(np.exp(v - np.repeat(v_max, len(v)))))"
   ]
  },
  {
   "cell_type": "code",
   "execution_count": 7,
   "metadata": {},
   "outputs": [],
   "source": [
    "def calculate_gamma(x, mu, sigma, pi, K):\n",
    "    \"\"\" \n",
    "    This function takes an observation, a GMM parameters \n",
    "    and returns the corresponding gamma necessary for \n",
    "    EM algorithm for each component of the GMM\n",
    "    \n",
    "    input :\n",
    "    x : data input d*1, dtype = ndarray(d*1)\n",
    "    mu : vector of gaussians means, dtype = ndarray(K,d)\n",
    "    sigma : vector of gaussians covariance, dtype = ndarray(d,d,K)\n",
    "    pi : vector of gaussians weights, dtype = ndarray(K,1)\n",
    "    K : number of gaussians, dtype = int\n",
    "    \n",
    "    Output : \n",
    "    log_sum_exp : vector as described below, dtype = ndarray(K,1)\n",
    "    gamma : values of gamma_k, dtype = ndarray(K,1)\n",
    "    \"\"\"\n",
    "\n",
    "    l = []\n",
    "    N = len(x)\n",
    "    for k in range(K):\n",
    "        (sign, logdet) = np.linalg.slogdet(sigma[k])\n",
    "        inter = np.dot((x - mu[k]), np.linalg.inv(sigma[k]))\n",
    "        l.append(np.log(pi[k]) - N/2 * np.log(2*np.pi) - 0.5*logdet - 0.5*np.dot(inter, (x - mu[k]).T))\n",
    "    \n",
    "    log_sum_exp = calculate_log_sum_exp(l)\n",
    "    gamma = np.exp(l - log_sum_exp)\n",
    "    return gamma, log_sum_exp"
   ]
  },
  {
   "cell_type": "markdown",
   "metadata": {},
   "source": [
    "### <font color='color'> Test </font>\n"
   ]
  },
  {
   "cell_type": "markdown",
   "metadata": {},
   "source": [
    "Here, we test our function with an example (which by the way isn't problematic in direct calculation). We compare the result with the python direct commands to calculate gamma. "
   ]
  },
  {
   "cell_type": "code",
   "execution_count": 33,
   "metadata": {},
   "outputs": [],
   "source": [
    "K = 3\n",
    "N = 1000\n",
    "pi = [0.3, 0.2, 0.5]\n",
    "mu1 = [0,0]\n",
    "mu2 = [1,2]\n",
    "mu3 = [2,0]\n",
    "mu = [ mu1, mu2, mu3 ]\n",
    "\n",
    "sigma1 = [[1, -0.25], [-0.25, 0.5]]\n",
    "sigma2 = [[0.5, 0.25], [0.25, 0.5]]\n",
    "sigma3 = [[0.5, -0.25], [-0.25, 1]]\n",
    "sigma = [sigma1, sigma2, sigma3]\n",
    "\n",
    "x = np.array([0,1])"
   ]
  },
  {
   "cell_type": "markdown",
   "metadata": {},
   "source": [
    "#### <font color='color'> 1. Calculation using the functions below </font>\n"
   ]
  },
  {
   "cell_type": "code",
   "execution_count": 34,
   "metadata": {},
   "outputs": [],
   "source": [
    "gamma, log_sum_exp = calculate_gamma(x, mu, sigma, pi, K)"
   ]
  },
  {
   "cell_type": "code",
   "execution_count": 35,
   "metadata": {},
   "outputs": [
    {
     "data": {
      "text/plain": [
       "array([0.51614127, 0.43445316, 0.04940557])"
      ]
     },
     "execution_count": 35,
     "metadata": {},
     "output_type": "execute_result"
    }
   ],
   "source": [
    "gamma"
   ]
  },
  {
   "cell_type": "markdown",
   "metadata": {},
   "source": [
    "#### <font color='color'> 2. Using scipy multivariate_normal function </font>\n"
   ]
  },
  {
   "cell_type": "code",
   "execution_count": 13,
   "metadata": {},
   "outputs": [],
   "source": [
    "l = []\n",
    "N = len(x)\n",
    "for k in range(K):\n",
    "     l.append(pi[k] * multivariate_normal.pdf(x, mu[k], sigma[k]))\n",
    "gamma = l / np.sum(l)  "
   ]
  },
  {
   "cell_type": "code",
   "execution_count": 14,
   "metadata": {},
   "outputs": [
    {
     "data": {
      "text/plain": [
       "array([2.91073236e-04, 9.25624506e-01, 7.40844212e-02])"
      ]
     },
     "execution_count": 14,
     "metadata": {},
     "output_type": "execute_result"
    }
   ],
   "source": [
    "gamma"
   ]
  },
  {
   "cell_type": "markdown",
   "metadata": {},
   "source": [
    "We can se here that we have the same value of gamma using the same input."
   ]
  },
  {
   "cell_type": "markdown",
   "metadata": {},
   "source": [
    "# <font color='color'> Question 2 : EM algorithm </font>\n"
   ]
  },
  {
   "cell_type": "markdown",
   "metadata": {},
   "source": [
    "The **EM Algorithm** is composed by 2 main steps : \n",
    "\n",
    "1. E-step : Evaluate the expectation : $\\mathrm{L}_{t}(\\theta) = \\mathrm{E}[\\log p(X, Z | \\theta)]_{p(Z|X,\\theta^{(t)})}$, with :\n",
    "    * X : All observations. In our case X_{1:N}\n",
    "    * Z: All hidden variables. In our case Z_{1:N}\n",
    "    * $\\theta$ : All parameters. In our case $\\theta = (\\mu_{1:K}, \\Sigma_{1:K}, \\pi_{1:K})$ \n",
    "\n",
    "\n",
    "2. M-step : Find $\\theta^{(t+1)}$ that maximizes $\\mathrm{L}_{t}(\\theta)$\n",
    "\n",
    "\n",
    "We have shown during the course session that \n",
    "\n",
    "\\begin{align}\n",
    "\\mathrm{L}_{t}(\\theta)  &= \\sum_{n=1}^{N}\\sum_{k=1}^{K}\\gamma_k^{(t)}(X_n).[\\log \\pi_k + \\log \\mathcal{N}(X_n; \\mu_k,\\,\\Sigma_{k})\\,]\\\\\n",
    "                   &= \\sum_{n=1}^{N}\\sum_{k=1}^{K}\\gamma_k^{(t)}(X_n).[\\log \\pi_k - \\frac{p}{2}log(2\\pi) - \\frac{1}{2} \\log(Det(\\Sigma_k)) - \\frac{1}{2}(X_n - \\mu_k)^T\\Sigma_k^{-1}(X_n - \\mu_k)]\n",
    "\\end{align}\n",
    "\n",
    "\n",
    "\n",
    "<font color='color'> **Maximize  $\\mathrm{L}_{t}(\\theta)$ w.r.t $\\mu_k$** </font>\n",
    "\n",
    "\\begin{align}\n",
    "\\frac{\\partial \\mathrm{L}_{t}(\\theta)}{\\partial \\mu_k} &= \\sum_{n=1}^{N}\\gamma_k^{(t)}(X_n)\\Sigma_k^{-1}(X_n - \\mu_k) = 0\n",
    "\\end{align}\n",
    "\n",
    "$\\Longrightarrow \\sum_{n=1}^{N}\\gamma_k^{(t)}(X_n)(X_n - \\mu_k) = 0$  \n",
    "<br>\n",
    "$\\Longrightarrow \\mu_k = \\frac{\\sum_{n=1}^{N}\\gamma_k^{(t)}(X_n).X_n}{\\sum_{n=1}^{N}\\gamma_k^{(t)}(X_n)}$\n",
    "\n",
    "<br>\n",
    "<font color='color'> **Maximize  $\\mathrm{L}_{t}(\\theta)$ w.r.t $\\Sigma_k$** </font>\n",
    "\n",
    "\\begin{align}\n",
    "\\frac{\\partial \\mathrm{L}_{t}(\\theta)}{\\partial \\Sigma_k} &\\propto \\sum_{n=1}^{N}\\gamma_k^{(t)}(X_n)[- \\Sigma_k^{-1} + \\Sigma_k^{-1}(X_n - \\mu_k)(X_n - \\mu_k)^T\\Sigma_k^{-1}] = 0\n",
    "\\end{align}\n",
    "\n",
    "<br>\n",
    "$\\Longrightarrow \\sum_{n=1}^{N}\\gamma_k^{(t)}(X_n)\\Sigma_k^{-1} = \\sum_{n=1}^{N}\\gamma_k^{(t)}(X_n)\\Sigma_k^{-1}(X_n - \\mu_k)(X_n - \\mu_k)^T\\Sigma_k^{-1}$  \n",
    "\n",
    "<br>\n",
    "\n",
    "$\\Longrightarrow \\Sigma_k = \\frac{\\sum_{n=1}^{N}\\gamma_k^{(t)}(X_n)(X_n - \\mu_k)(X_n - \\mu_k)^T}{\\sum_{n=1}^{N}\\gamma_k^{(t)}(X_n)}$\n",
    "\n",
    "<br>\n",
    "<font color='color'> **Maximize  $\\mathrm{L}_{t}(\\theta)$ w.r.t $\\pi_k$, with constraint :  $\\sum_{k=1}^{K}\\pi_k = 1$** </font>\n",
    "\n",
    "\\begin{align}\n",
    "\\frac{\\partial (\\mathrm{L}_{t}(\\theta) + \\lambda (1 - \\sum_{k=1}^{K}\\pi_k))}{\\partial \\pi_k} &= \\sum_{n=1}^{N}\\frac{1}{\\pi_k}\\gamma_k^{(t)}(X_n) - \\lambda = 0, \\quad \\sum_{k=1}^{K}\\pi_k = 1\n",
    "\\end{align}\n",
    "\n",
    "$\\Longrightarrow \\pi_k = \\frac{1}{\\lambda}\\sum_{n=1}^{N}\\gamma_k^{(t)}(X_n) $\n",
    "<br>\n",
    "\n",
    "$\\Longrightarrow \\sum_{k=1}^{K}\\pi_k = 1 = \\sum_{k=1}^{K} \\frac{1}{\\lambda}\\sum_{n=1}^{N}\\gamma_k^{(t)}(X_n) = \\frac{1}{\\lambda} \\sum_{n=1}^{N} \\sum_{k=1}^{K} \\gamma_k^{(t)}(X_n)$\n",
    "<br>\n",
    "\n",
    "$\\Longrightarrow \\frac{1}{\\lambda} \\sum_{n=1}^{N} 1 = 1$ $\\quad \\Longrightarrow  \\lambda = N$\n",
    "<br>\n",
    "\n",
    "$\\Longrightarrow \\pi_k = \\frac{1}{N}\\sum_{n=1}^{N}\\gamma_k^{(t)}(X_n) $\n",
    "<br>\n",
    "<font color='color'> **Conclusion** </font>\n",
    "<br>\n",
    "\n",
    "* $\\mu_k^{(t+1)} = \\frac{\\sum_{n=1}^{N}\\gamma_k^{(t)}(X_n).X_n}{\\sum_{n=1}^{N}\\gamma_k^{(t)}(X_n)}$\n",
    "\n",
    "\n",
    "* $\\Sigma_k^{(t+1)} = \\frac{\\sum_{n=1}^{N}\\gamma_k^{(t)}(X_n)(X_n - \\mu_k^{(t+1)})(X_n - \\mu_k^{(t+1)})^T}{\\sum_{n=1}^{N}\\gamma_k^{(t)}(X_n)}$\n",
    "\n",
    "* $\\pi_k^{(t+1)} = \\frac{1}{N}\\sum_{n=1}^{N}\\gamma_k^{(t)}(X_n) $"
   ]
  },
  {
   "cell_type": "markdown",
   "metadata": {},
   "source": [
    "# <font color='color'> Question 3 : GMM </font>\n"
   ]
  },
  {
   "cell_type": "markdown",
   "metadata": {},
   "source": [
    "### <font color='color'> Question 3.1 : Generative GMM </font>\n"
   ]
  },
  {
   "cell_type": "code",
   "execution_count": 12,
   "metadata": {},
   "outputs": [],
   "source": [
    "def generate_gmm(K, N, pi, mu, sigma):\n",
    "    \"\"\" \n",
    "    This function takes GMM parameters (K, pi, mu and sigma) \n",
    "    and returns N data points generated following this model\n",
    "    \n",
    "    input :\n",
    "    mu : vector of gaussians means, dtype = ndarray(K,d)\n",
    "    sigma : vector of gaussians covariance, dtype = ndarray(d,d,K)\n",
    "    pi : vector of gaussians weights, dtype = ndarray(K,1)\n",
    "    K : number of gaussians, dtype=int\n",
    "    N : number of data points to generate, dtype=int\n",
    "    \n",
    "    Output : \n",
    "    x : vector of N data points, dtype = ndarray(N,d)\n",
    "    \"\"\"\n",
    "    component = np.random.choice(np.arange(0,K), N, p=pi)\n",
    "    x = []\n",
    "    for i in component:\n",
    "        x.append(np.random.multivariate_normal(mu[i], sigma[i]))\n",
    "    return np.array(x)"
   ]
  },
  {
   "cell_type": "code",
   "execution_count": 13,
   "metadata": {},
   "outputs": [],
   "source": [
    "K = 3\n",
    "N = 1000\n",
    "pi = [0.3, 0.2, 0.5]\n",
    "mu1 = [0,0]\n",
    "mu2 = [1,2]\n",
    "mu3 = [2,0]\n",
    "mu = [ mu1, mu2, mu3 ]\n",
    "sigma1 = [[1, -0.25], [-0.25, 0.5]]\n",
    "sigma2 = [[0.5, 0.25], [0.25, 0.5]]\n",
    "sigma3 = [[0.5, -0.25], [-0.25, 1]]\n",
    "\n",
    "sigma = [sigma1, sigma2, sigma3]"
   ]
  },
  {
   "cell_type": "code",
   "execution_count": 14,
   "metadata": {},
   "outputs": [],
   "source": [
    "xn = generate_gmm(K, N, pi, mu, sigma)"
   ]
  },
  {
   "cell_type": "code",
   "execution_count": 15,
   "metadata": {},
   "outputs": [
    {
     "data": {
      "image/png": "[encoded data removed]",
      "text/plain": [
       "<Figure size 432x288 with 1 Axes>"
      ]
     },
     "metadata": {},
     "output_type": "display_data"
    }
   ],
   "source": [
    "plt.plot(xn[:,0], xn[:,1], 'b.')\n",
    "plt.show()"
   ]
  },
  {
   "cell_type": "markdown",
   "metadata": {},
   "source": [
    "### <font color='color'> Question 3.2 : GMM inference </font>\n"
   ]
  },
  {
   "cell_type": "code",
   "execution_count": 16,
   "metadata": {},
   "outputs": [],
   "source": [
    "def EM_algorithm(xn, K, pi0, mu0, sigma0, t_max):\n",
    "    \"\"\" \n",
    "    This is an EM algorithm implementation\n",
    "    \n",
    "    input :\n",
    "    xn : data points, dtype=ndarray(N,2)\n",
    "    K : number of gaussians, dtype=int\n",
    "    pi0 : gaussians weights initialization, dtype = ndarray(K,1)\n",
    "    mu0 : gaussians means initialization, dtype = ndarray(K,d)\n",
    "    sigma0 : gaussians covariance matrices initialization, dtype = ndarray(d,d,K)\n",
    "    t_max : maximal number of iterations, dtype=int\n",
    "        \n",
    "    Output : \n",
    "    pi : vector of weights calculated in each step, dtype=list\n",
    "    mu : vector of means calculated in each step, dtype=list\n",
    "    sigma : vector of covariance matrices calculated in each step, dtype=list\n",
    "    gamma : vector of posterior distribution calculated in each step, dtype=list\n",
    "    log_likelihood : vector of log_likelihood calculated in each step, dtype=list \n",
    "    \"\"\"\n",
    "    t = 0\n",
    "    pi = [pi0]\n",
    "    mu = [np.array(mu0)]\n",
    "    sigma = [sigma0]\n",
    "    gamma = []\n",
    "    #Update \n",
    "    norm = 1\n",
    "    pbar = tqdm(total = t_max)\n",
    "    log_likelihood = np.array([])\n",
    "    while (norm>0.0001 and t<t_max):\n",
    "        \n",
    "        #E-step\n",
    "        #gamma_t.shape = (1000, 3)\n",
    "        gamma_t, log_sum_exp = calculate_gamma(xn[0], mu[t], sigma[t], pi[t], K)\n",
    "        for i in range(1,N):\n",
    "            g, l = calculate_gamma(xn[i], mu[t], sigma[t], pi[t], K)\n",
    "            gamma_t = np.vstack((gamma_t, g))\n",
    "            log_sum_exp = np.append(log_sum_exp, l)\n",
    "        log_likelihood = np.append(log_likelihood, np.sum(log_sum_exp))\n",
    "        gamma.append(gamma_t)\n",
    "        \n",
    "        #M_step : update \n",
    "        gamma_sum = np.sum(gamma[t], axis = 0)\n",
    "        mu.append( np.dot(gamma[t].T , xn) /  gamma_sum.reshape((K,1)))\n",
    "        \n",
    "        sigma_t = []\n",
    "        for k in range(K):\n",
    "            s = 0\n",
    "            for i in range(N):   \n",
    "                diff = (xn[i] - mu[t+1][k]).reshape((d,1))\n",
    "                s += gamma[t][i,k] * np.dot(diff, diff.T)\n",
    "            \n",
    "            sigma_t.append(s / gamma_sum[k])  \n",
    "        \n",
    "        sigma.append(sigma_t) \n",
    "        \n",
    "        pi.append(1/N * gamma_sum)\n",
    "        \n",
    "        #stop_condition :\n",
    "        norm = 0\n",
    "        for k in range(K):\n",
    "            norm += np.linalg.norm( sigma[t+1][k] - sigma[t][k] )\n",
    "            norm += np.linalg.norm(mu[t+1][k] - mu[t][k])\n",
    "        \n",
    "        norm += np.linalg.norm(pi[t+1] - pi[t])\n",
    "        t += 1\n",
    "        pbar.update(1)\n",
    "    pbar.close()\n",
    "        \n",
    "    return (pi, mu, sigma, gamma, log_likelihood)"
   ]
  },
  {
   "cell_type": "markdown",
   "metadata": {},
   "source": [
    "#### <font color='color'> Question 3.2.a : GMM inference with random intialization </font>\n"
   ]
  },
  {
   "cell_type": "code",
   "execution_count": 17,
   "metadata": {},
   "outputs": [
    {
     "data": {
      "application/vnd.jupyter.widget-view+json": {
       "model_id": "20e7f274440a4dbcb2c3c0cff8e1f76a",
       "version_major": 2,
       "version_minor": 0
      },
      "text/plain": [
       "HBox(children=(IntProgress(value=0, max=500), HTML(value='')))"
      ]
     },
     "metadata": {},
     "output_type": "display_data"
    },
    {
     "name": "stdout",
     "output_type": "stream",
     "text": [
      "\n"
     ]
    }
   ],
   "source": [
    "pi0 = np.random.uniform(0,1,K)\n",
    "pi0 = pi0 / sum(pi0)\n",
    "\n",
    "d = xn.shape[1] # here d = 2\n",
    "mu0 = []\n",
    "for i in range(K):\n",
    "    mu0.append(np.random.uniform(0,5,d))\n",
    "\n",
    "sigma0 = []\n",
    "for i in range(K):\n",
    "    sigma0.append(np.random.uniform(0,5,(d,d)))\n",
    "\n",
    "t_max = 500\n",
    "(pi, mu, sigma, gamma, log_likelihood) = EM_algorithm(xn, K, pi0, mu0, sigma0, t_max)"
   ]
  },
  {
   "cell_type": "markdown",
   "metadata": {},
   "source": [
    "#### We can see that with this random initialization, the algorithm converges after 268 steps"
   ]
  },
  {
   "cell_type": "markdown",
   "metadata": {},
   "source": [
    "##### <font color='color'> Results evaluation </font>\n"
   ]
  },
  {
   "cell_type": "code",
   "execution_count": 37,
   "metadata": {},
   "outputs": [],
   "source": [
    "estimated_pi = pi[-1]\n",
    "estimated_mean = mu[-1]\n",
    "estimated_cov = sigma[-1]"
   ]
  },
  {
   "cell_type": "code",
   "execution_count": 38,
   "metadata": {},
   "outputs": [],
   "source": [
    "def sort_parameters(mu, sigma, pi):\n",
    "    \"\"\"\n",
    "    This function sort the parameters in order to compare them with the real ones\n",
    "    \n",
    "    Input\n",
    "    mu, sigma, pi : gmm parameters\n",
    "    \n",
    "    Output\n",
    "    Sortet mu, sigma, pi\n",
    "    \"\"\"\n",
    "    indices = np.argsort(mu, axis = 0)[:,0]\n",
    "    mu = mu[indices]\n",
    "    pi = pi[indices]\n",
    "    sigma = np.array(sigma)[indices]\n",
    "    return mu, sigma, pi"
   ]
  },
  {
   "cell_type": "code",
   "execution_count": 39,
   "metadata": {},
   "outputs": [],
   "source": [
    "estimated_mean, estimated_cov, estimated_pi = sort_parameters(estimated_mean, estimated_cov, estimated_pi)"
   ]
  },
  {
   "cell_type": "code",
   "execution_count": 40,
   "metadata": {},
   "outputs": [
    {
     "data": {
      "text/plain": [
       "array([[ 0.03853114,  0.01145904],\n",
       "       [ 0.90298084,  1.95973082],\n",
       "       [ 2.08468132, -0.20301314]])"
      ]
     },
     "execution_count": 40,
     "metadata": {},
     "output_type": "execute_result"
    }
   ],
   "source": [
    "estimated_mean"
   ]
  },
  {
   "cell_type": "code",
   "execution_count": 63,
   "metadata": {},
   "outputs": [],
   "source": [
    "# Real means\n",
    "#mu1 = [0,0]\n",
    "#mu2 = [1,2]\n",
    "#mu3 = [2,0]"
   ]
  },
  {
   "cell_type": "markdown",
   "metadata": {},
   "source": [
    "#### We can see that estimated means are close to the real ones"
   ]
  },
  {
   "cell_type": "code",
   "execution_count": 41,
   "metadata": {},
   "outputs": [
    {
     "data": {
      "text/plain": [
       "array([[[ 0.97513212, -0.18997499],\n",
       "        [-0.18997499,  0.4394181 ]],\n",
       "\n",
       "       [[ 0.64965966,  0.17130804],\n",
       "        [ 0.17130804,  0.42728297]],\n",
       "\n",
       "       [[ 0.54962048, -0.15443243],\n",
       "        [-0.15443243,  0.88095062]]])"
      ]
     },
     "execution_count": 41,
     "metadata": {},
     "output_type": "execute_result"
    }
   ],
   "source": [
    "estimated_cov"
   ]
  },
  {
   "cell_type": "code",
   "execution_count": 65,
   "metadata": {},
   "outputs": [],
   "source": [
    "# real cov\n",
    "#sigma1 = [[1, -0.25], [-0.25, 0.5]]\n",
    "#sigma2 = [[0.5, 0.25], [0.25, 0.5]]\n",
    "#sigma3 = [[0.5, -0.25], [-0.25, 1]]"
   ]
  },
  {
   "cell_type": "markdown",
   "metadata": {},
   "source": [
    "#### Same for covariance"
   ]
  },
  {
   "cell_type": "code",
   "execution_count": 42,
   "metadata": {},
   "outputs": [
    {
     "data": {
      "text/plain": [
       "array([0.30932127, 0.24131809, 0.44936065])"
      ]
     },
     "execution_count": 42,
     "metadata": {},
     "output_type": "execute_result"
    }
   ],
   "source": [
    "estimated_pi"
   ]
  },
  {
   "cell_type": "code",
   "execution_count": 67,
   "metadata": {},
   "outputs": [],
   "source": [
    "#real pi \n",
    "#pi = [0.3, 0.2, 0.5]"
   ]
  },
  {
   "cell_type": "markdown",
   "metadata": {},
   "source": [
    "#### Same for pi"
   ]
  },
  {
   "cell_type": "markdown",
   "metadata": {},
   "source": [
    "##### <font color='color'> Evolution of gaussians contours : Step 40, 80 and 100</font>\n"
   ]
  },
  {
   "cell_type": "code",
   "execution_count": 65,
   "metadata": {},
   "outputs": [],
   "source": [
    "def multivariate(mu, sigma, pi, indice, x, y):\n",
    "    \"\"\"\n",
    "    This function calculates the gaussian contours\n",
    "    \n",
    "    Input\n",
    "    mu, sigma, pi : gaussian parameters\n",
    "    \n",
    "    Output\n",
    "    gaussian contours\n",
    "    pos : parameter of the gaussian contours\n",
    "    \"\"\"\n",
    "    m, s, p = sort_parameters(mu, sigma, pi)\n",
    "    pos = np.empty(x.shape + (2,))\n",
    "    pos[:, :, 0] = x; pos[:, :, 1] = y\n",
    "    return  multivariate_normal(m[indice], s[indice]), pos"
   ]
  },
  {
   "cell_type": "code",
   "execution_count": 68,
   "metadata": {},
   "outputs": [
    {
     "data": {
      "text/plain": [
       "Text(0.5,1,'3rd estimated gaussian, step 100')"
      ]
     },
     "execution_count": 68,
     "metadata": {},
     "output_type": "execute_result"
    },
    {
     "data": {
      "image/png": "[encoded data removed]",
      "text/plain": [
       "<Figure size 1152x576 with 9 Axes>"
      ]
     },
     "metadata": {},
     "output_type": "display_data"
    }
   ],
   "source": [
    "from scipy.stats import multivariate_normal\n",
    "\n",
    "\n",
    "x, y = np.mgrid[-3:2:.1, -2:3:.1]\n",
    "x1, y1 = np.mgrid[-2:4:.1, -2:4:.1]\n",
    "x2, y2 = np.mgrid[-1:4:.1, -3:3:.1]\n",
    "\n",
    "# step 40\n",
    "step = 19\n",
    "rv, pos  = multivariate(mu[step], sigma[step], pi[step], 0, x, y)\n",
    "rv1, pos1  = multivariate(mu[step], sigma[step], pi[step], 1, x1, y1)\n",
    "rv2, pos2  = multivariate(mu[step], sigma[step], pi[step], 2, x2, y2)\n",
    "\n",
    "# step 80\n",
    "step = 79\n",
    "rv3, pos3  = multivariate(mu[step], sigma[step], pi[step], 0, x, y)\n",
    "rv4, pos4  = multivariate(mu[step], sigma[step], pi[step], 1, x1, y1)\n",
    "rv5, pos5  = multivariate(mu[step], sigma[step], pi[step], 2, x2, y2)\n",
    "\n",
    "# step 100\n",
    "step = 99\n",
    "rv6, pos6  = multivariate(mu[step], sigma[step], pi[step], 0, x, y)\n",
    "rv7, pos7  = multivariate(mu[step], sigma[step], pi[step], 1, x1, y1)\n",
    "rv8, pos8  = multivariate(mu[step], sigma[step], pi[step], 2, x2, y2)\n",
    "\n",
    "\n",
    "plt.subplot(3, 3, 1)\n",
    "plt.contourf(x, y, rv.pdf(pos))\n",
    "plt.title('1st estimated gaussian, step 40')\n",
    "plt.subplot(3, 3, 2)\n",
    "plt.contourf(x1, y1, rv1.pdf(pos1))\n",
    "plt.title('2nd estimated gaussian, step 40')\n",
    "plt.subplot(3, 3, 3)\n",
    "plt.contourf(x2, y2, rv2.pdf(pos2))\n",
    "plt.title('3rd estimated gaussian, step 40')\n",
    "\n",
    "\n",
    "plt.subplot(3, 3, 4)\n",
    "plt.contourf(x, y, rv3.pdf(pos3))\n",
    "plt.title('1st estimated gaussian, step 80')\n",
    "plt.subplot(3, 3, 5)\n",
    "plt.contourf(x1, y1, rv4.pdf(pos4))\n",
    "plt.title('2nd estimated gaussian, step 80')\n",
    "\n",
    "plt.subplot(3, 3, 6)\n",
    "plt.contourf(x2, y2, rv5.pdf(pos5))\n",
    "plt.title('3rd estimated gaussian, step 80')\n",
    "\n",
    "\n",
    "plt.subplot(3, 3, 7)\n",
    "plt.contourf(x, y, rv6.pdf(pos6))\n",
    "plt.title('1st estimated gaussian, step 100')\n",
    "plt.subplot(3, 3, 8)\n",
    "plt.contourf(x1, y1, rv7.pdf(pos7))\n",
    "plt.title('2nd estimated gaussian, step 100')\n",
    "plt.subplot(3, 3, 9)\n",
    "plt.contourf(x2, y2, rv8.pdf(pos8))\n",
    "plt.title('3rd estimated gaussian, step 100')"
   ]
  },
  {
   "cell_type": "code",
   "execution_count": null,
   "metadata": {},
   "outputs": [],
   "source": []
  },
  {
   "cell_type": "markdown",
   "metadata": {},
   "source": [
    "##### <font color='color'> Final estimated gaussians VS real gaussians contours </font>\n"
   ]
  },
  {
   "cell_type": "code",
   "execution_count": 63,
   "metadata": {},
   "outputs": [
    {
     "data": {
      "text/plain": [
       "Text(0.5,1,'3rd real gaussian')"
      ]
     },
     "execution_count": 63,
     "metadata": {},
     "output_type": "execute_result"
    },
    {
     "data": {
      "image/png": "[encoded data removed]",
      "text/plain": [
       "<Figure size 1152x576 with 6 Axes>"
      ]
     },
     "metadata": {},
     "output_type": "display_data"
    }
   ],
   "source": [
    "from scipy.stats import multivariate_normal\n",
    "x, y = np.mgrid[-3:2:.1, -2:3:.1]\n",
    "pos = np.empty(x.shape + (2,))\n",
    "pos[:, :, 0] = x; pos[:, :, 1] = y\n",
    "rv = multivariate_normal(estimated_mean[0], estimated_cov[0])\n",
    "rv1 = multivariate_normal(mu1, sigma1)\n",
    "\n",
    "x1, y1 = np.mgrid[-1:3:.1, 0:4:.1]\n",
    "pos1 = np.empty(x1.shape + (2,))\n",
    "pos1[:, :, 0] = x1; pos1[:, :, 1] = y1\n",
    "rv2 = multivariate_normal(estimated_mean[1], estimated_cov[1])\n",
    "rv3 = multivariate_normal(mu2, sigma2)\n",
    "\n",
    "x2, y2 = np.mgrid[0:4:.1, -3:3:.1]\n",
    "pos2 = np.empty(x2.shape + (2,))\n",
    "pos2[:, :, 0] = x2; pos2[:, :, 1] = y2\n",
    "rv4 = multivariate_normal(estimated_mean[2], estimated_cov[2])\n",
    "rv5 = multivariate_normal(mu3, sigma3)\n",
    "\n",
    "plt.subplot(2, 3, 1)\n",
    "plt.contourf(x, y, rv.pdf(pos))\n",
    "#plt.plot(xn[:,0], xn[:,1], 'b.')\n",
    "plt.title('1st estimated gaussian')\n",
    "plt.subplot(2, 3, 4)\n",
    "plt.contourf(x, y, rv1.pdf(pos))\n",
    "plt.title('1st real gaussian')\n",
    "\n",
    "\n",
    "plt.subplot(2, 3, 2)\n",
    "plt.contourf(x1, y1, rv2.pdf(pos1))\n",
    "plt.title('2nd estimated gaussian')\n",
    "plt.subplot(2, 3, 5)\n",
    "plt.contourf(x1, y1, rv3.pdf(pos1))\n",
    "plt.title('2nd real gaussian')\n",
    "\n",
    "plt.subplot(2, 3, 3)\n",
    "plt.contourf(x2, y2, rv4.pdf(pos2))\n",
    "plt.title('3rd estimated gaussian')\n",
    "plt.subplot(2, 3, 6)\n",
    "plt.contourf(x2, y2, rv5.pdf(pos2))\n",
    "plt.title('3rd real gaussian')\n"
   ]
  },
  {
   "cell_type": "markdown",
   "metadata": {},
   "source": [
    "#### <font color='color'> Question 3.2.b : Log Likelihood vs Iterations </font>\n"
   ]
  },
  {
   "cell_type": "code",
   "execution_count": 64,
   "metadata": {
    "scrolled": true
   },
   "outputs": [
    {
     "data": {
      "text/plain": [
       "[<matplotlib.lines.Line2D at 0x21c9f9a8908>]"
      ]
     },
     "execution_count": 64,
     "metadata": {},
     "output_type": "execute_result"
    },
    {
     "data": {
      "image/png": "[encoded data removed]",
      "text/plain": [
       "<Figure size 1152x576 with 1 Axes>"
      ]
     },
     "metadata": {},
     "output_type": "display_data"
    }
   ],
   "source": [
    "plt.plot(np.arange(1, len(pi) - 1), log_likelihood[1:], 'r',   label='log_likelihood')"
   ]
  },
  {
   "cell_type": "markdown",
   "metadata": {},
   "source": [
    "#### We can see that the log likelihood is an increasing function and it remains conctant at the end of the algorithm"
   ]
  },
  {
   "cell_type": "markdown",
   "metadata": {},
   "source": [
    "#### <font color='color'> Question 3.2.c : How sensitive is the EM algorithm for different initial values? </font>\n"
   ]
  },
  {
   "cell_type": "markdown",
   "metadata": {},
   "source": [
    "In order to test the sensitivity of the EM algorithm to the initial values, we are going to run the algorithm for different initializations. \n",
    "\n",
    "* multiple random initilizations\n",
    "\n",
    "* use the results of k-means as an initialization : Take the center of clusters as the mean of our gaussians, and the covariance of each cluster as the covariance of our gaussians and the propotion of points in each cluster as pi\n",
    "<br>\n",
    "\n",
    "* start from an initialization near to the real parameters\n",
    "\n",
    "After that, we are going to save the number of iterations we had in each method (so that we satisfy our stopping condition) and to calculate $ \\sum_{k=1}^{K}|| \\mu_k^{real} - \\mu_k^{estimated} ||^2 + || \\Sigma_k^{real} - \\Sigma_k^{estimated} ||^2 + || \\pi_k^{real} - \\pi_k^{estimated} ||^2$"
   ]
  },
  {
   "cell_type": "markdown",
   "metadata": {},
   "source": [
    "##### <font color='color'> 5 random realizations </font>\n"
   ]
  },
  {
   "cell_type": "code",
   "execution_count": 75,
   "metadata": {},
   "outputs": [],
   "source": [
    "# Real parameters\n",
    "K = 3\n",
    "N = 1000\n",
    "pi = [0.3, 0.2, 0.5]\n",
    "mu1 = [0,0]\n",
    "mu2 = [1,2]\n",
    "mu3 = [2,0]\n",
    "mu = [ mu1, mu2, mu3 ]\n",
    "sigma1 = [[1, -0.25], [-0.25, 0.5]]\n",
    "sigma2 = [[0.5, 0.25], [0.25, 0.5]]\n",
    "sigma3 = [[0.5, -0.25], [-0.25, 1]]\n",
    "\n",
    "sigma = [sigma1, sigma2, sigma3]"
   ]
  },
  {
   "cell_type": "code",
   "execution_count": 76,
   "metadata": {},
   "outputs": [
    {
     "data": {
      "application/vnd.jupyter.widget-view+json": {
       "model_id": "3049e6102d3441618b315e49b9cb7890",
       "version_major": 2,
       "version_minor": 0
      },
      "text/plain": [
       "HBox(children=(IntProgress(value=0, max=500), HTML(value='')))"
      ]
     },
     "metadata": {},
     "output_type": "display_data"
    },
    {
     "data": {
      "application/vnd.jupyter.widget-view+json": {
       "model_id": "e507e85c6aa143389d71c53419426981",
       "version_major": 2,
       "version_minor": 0
      },
      "text/plain": [
       "HBox(children=(IntProgress(value=0, max=500), HTML(value='')))"
      ]
     },
     "metadata": {},
     "output_type": "display_data"
    },
    {
     "data": {
      "application/vnd.jupyter.widget-view+json": {
       "model_id": "c4ab598b436a4ad8b238e304ca36f688",
       "version_major": 2,
       "version_minor": 0
      },
      "text/plain": [
       "HBox(children=(IntProgress(value=0, max=500), HTML(value='')))"
      ]
     },
     "metadata": {},
     "output_type": "display_data"
    },
    {
     "data": {
      "application/vnd.jupyter.widget-view+json": {
       "model_id": "023d78701b9840528d3ce706616b2488",
       "version_major": 2,
       "version_minor": 0
      },
      "text/plain": [
       "HBox(children=(IntProgress(value=0, max=500), HTML(value='')))"
      ]
     },
     "metadata": {},
     "output_type": "display_data"
    },
    {
     "data": {
      "application/vnd.jupyter.widget-view+json": {
       "model_id": "4b7d48139f854c288b26dc0a36fd0d8a",
       "version_major": 2,
       "version_minor": 0
      },
      "text/plain": [
       "HBox(children=(IntProgress(value=0, max=500), HTML(value='')))"
      ]
     },
     "metadata": {},
     "output_type": "display_data"
    }
   ],
   "source": [
    "nb_step = []\n",
    "error = []\n",
    "for r in range(5):\n",
    "    pi0 = np.random.uniform(0,1,K)\n",
    "    pi0 = pi0 / sum(pi0)\n",
    "\n",
    "    d = xn.shape[1]\n",
    "    mu0 = []\n",
    "    for i in range(K):\n",
    "        mu0.append(np.random.uniform(0,5,d))\n",
    "\n",
    "    sigma0 = []\n",
    "    for i in range(K):\n",
    "        sigma0.append(np.random.uniform(0,5,(d,d)))\n",
    "\n",
    "    t_max = 500\n",
    "    (pi_eval, mu_eval, sigma_eval, gamma, log_likelihood) = EM_algorithm(xn, K, pi0, mu0, sigma0, t_max)\n",
    "    \n",
    "    #nb_steps\n",
    "    nb_step.append(len(pi_eval))\n",
    "    \n",
    "    #error\n",
    "    estimated_pi = pi_eval[-1]\n",
    "    estimated_mean = mu_eval[-1]\n",
    "    estimated_cov = sigma_eval[-1]\n",
    "    # to compare the estimated results with the real ones, we need first to rearrange the vectors : \n",
    "    indices = np.argsort(estimated_mean, axis = 0)[:,0]\n",
    "    estimated_mean = estimated_mean[indices]\n",
    "    estimated_cov = np.array(estimated_cov)[indices]\n",
    "    estimated_pi = estimated_pi[indices]\n",
    "    \n",
    "    norm = 0\n",
    "    for k in range(K):\n",
    "        norm += np.linalg.norm( estimated_cov[k] - sigma[k] )**2\n",
    "        norm += np.linalg.norm(estimated_mean[k] - mu[k])**2\n",
    "\n",
    "    norm += np.linalg.norm(estimated_pi - pi)**2\n",
    "    error.append(norm)"
   ]
  },
  {
   "cell_type": "code",
   "execution_count": 77,
   "metadata": {},
   "outputs": [],
   "source": [
    "d = {'Simulation number': ['random simulation ' + str(i) for i in np.arange(1,6)], 'Number of iterations': nb_step,'error': error}\n",
    "results = pd.DataFrame(data=d)"
   ]
  },
  {
   "cell_type": "code",
   "execution_count": 78,
   "metadata": {},
   "outputs": [
    {
     "data": {
      "text/html": [
       "<div>\n",
       "<style scoped>\n",
       "    .dataframe tbody tr th:only-of-type {\n",
       "        vertical-align: middle;\n",
       "    }\n",
       "\n",
       "    .dataframe tbody tr th {\n",
       "        vertical-align: top;\n",
       "    }\n",
       "\n",
       "    .dataframe thead th {\n",
       "        text-align: right;\n",
       "    }\n",
       "</style>\n",
       "<table border=\"1\" class=\"dataframe\">\n",
       "  <thead>\n",
       "    <tr style=\"text-align: right;\">\n",
       "      <th></th>\n",
       "      <th>Simulation number</th>\n",
       "      <th>Number of iterations</th>\n",
       "      <th>error</th>\n",
       "    </tr>\n",
       "  </thead>\n",
       "  <tbody>\n",
       "    <tr>\n",
       "      <th>0</th>\n",
       "      <td>random simulation 1</td>\n",
       "      <td>233</td>\n",
       "      <td>0.197080</td>\n",
       "    </tr>\n",
       "    <tr>\n",
       "      <th>1</th>\n",
       "      <td>random simulation 2</td>\n",
       "      <td>375</td>\n",
       "      <td>0.195727</td>\n",
       "    </tr>\n",
       "    <tr>\n",
       "      <th>2</th>\n",
       "      <td>random simulation 3</td>\n",
       "      <td>501</td>\n",
       "      <td>9.086334</td>\n",
       "    </tr>\n",
       "    <tr>\n",
       "      <th>3</th>\n",
       "      <td>random simulation 4</td>\n",
       "      <td>180</td>\n",
       "      <td>0.197097</td>\n",
       "    </tr>\n",
       "    <tr>\n",
       "      <th>4</th>\n",
       "      <td>random simulation 5</td>\n",
       "      <td>157</td>\n",
       "      <td>0.195732</td>\n",
       "    </tr>\n",
       "  </tbody>\n",
       "</table>\n",
       "</div>"
      ],
      "text/plain": [
       "     Simulation number  Number of iterations     error\n",
       "0  random simulation 1                   233  0.197080\n",
       "1  random simulation 2                   375  0.195727\n",
       "2  random simulation 3                   501  9.086334\n",
       "3  random simulation 4                   180  0.197097\n",
       "4  random simulation 5                   157  0.195732"
      ]
     },
     "execution_count": 78,
     "metadata": {},
     "output_type": "execute_result"
    }
   ],
   "source": [
    "results"
   ]
  },
  {
   "cell_type": "markdown",
   "metadata": {},
   "source": [
    "##### <font color='color'> Using kmeans </font>\n"
   ]
  },
  {
   "cell_type": "code",
   "execution_count": 79,
   "metadata": {},
   "outputs": [],
   "source": [
    "# Real parameters\n",
    "K = 3\n",
    "N = 1000\n",
    "pi = [0.3, 0.2, 0.5]\n",
    "mu1 = [0,0]\n",
    "mu2 = [1,2]\n",
    "mu3 = [2,0]\n",
    "mu = [ mu1, mu2, mu3 ]\n",
    "sigma1 = [[1, -0.25], [-0.25, 0.5]]\n",
    "sigma2 = [[0.5, 0.25], [0.25, 0.5]]\n",
    "sigma3 = [[0.5, -0.25], [-0.25, 1]]\n",
    "\n",
    "sigma = [sigma1, sigma2, sigma3]"
   ]
  },
  {
   "cell_type": "code",
   "execution_count": 80,
   "metadata": {},
   "outputs": [],
   "source": [
    "from sklearn.cluster import KMeans\n",
    "kmeans = KMeans(n_clusters=K, random_state=0).fit(xn)"
   ]
  },
  {
   "cell_type": "code",
   "execution_count": 81,
   "metadata": {},
   "outputs": [],
   "source": [
    "mu0 = list(kmeans.cluster_centers_)"
   ]
  },
  {
   "cell_type": "code",
   "execution_count": 82,
   "metadata": {},
   "outputs": [],
   "source": [
    "sigma0 = [np.cov(xn[kmeans.labels_ == 0].T), \n",
    "                  np.cov(xn[kmeans.labels_ == 1].T),\n",
    "                  np.cov(xn[kmeans.labels_ == 2].T)]"
   ]
  },
  {
   "cell_type": "code",
   "execution_count": 83,
   "metadata": {},
   "outputs": [],
   "source": [
    "pi0 = np.array([np.sum(kmeans.labels_ == 0) / N, \n",
    "                np.sum(kmeans.labels_ == 1) / N, \n",
    "                np.sum(kmeans.labels_ == 2) / N ])"
   ]
  },
  {
   "cell_type": "code",
   "execution_count": 89,
   "metadata": {
    "scrolled": true
   },
   "outputs": [
    {
     "data": {
      "application/vnd.jupyter.widget-view+json": {
       "model_id": "8bc6c5c275f54f30a333ed10c3c04809",
       "version_major": 2,
       "version_minor": 0
      },
      "text/plain": [
       "HBox(children=(IntProgress(value=0, max=500), HTML(value='')))"
      ]
     },
     "metadata": {},
     "output_type": "display_data"
    }
   ],
   "source": [
    "t_max = 500\n",
    "d = xn.shape[1]\n",
    "pi_eval, mu_eval, sigma_eval, gamma, log_likelihood = EM_algorithm(xn, K, pi0, mu0, sigma0, t_max)\n",
    "\n",
    "#nb_steps\n",
    "nb_step = len(pi_eval)\n",
    "\n",
    "#error\n",
    "estimated_pi = pi_eval[-1]\n",
    "estimated_mean = mu_eval[-1]\n",
    "estimated_cov = sigma_eval[-1]\n",
    "# to compare the estimated results with the real ones, we need first to rearrange the vectors : \n",
    "indices = np.argsort(estimated_mean, axis = 0)[:,0]\n",
    "estimated_mean = estimated_mean[indices]\n",
    "estimated_cov = np.array(estimated_cov)[indices]\n",
    "estimated_pi = estimated_pi[indices]\n",
    "\n",
    "norm = 0\n",
    "for k in range(K):\n",
    "    norm += np.linalg.norm( estimated_cov[k] - sigma[k] )**2\n",
    "    norm += np.linalg.norm(estimated_mean[k] - mu[k])**2\n",
    "\n",
    "norm += np.linalg.norm(estimated_pi - pi)**2\n",
    "error = norm"
   ]
  },
  {
   "cell_type": "code",
   "execution_count": 91,
   "metadata": {},
   "outputs": [],
   "source": [
    "results.loc[len(results)] = ['with Kmeans', len(pi_eval), error]"
   ]
  },
  {
   "cell_type": "code",
   "execution_count": 92,
   "metadata": {
    "scrolled": true
   },
   "outputs": [
    {
     "data": {
      "text/html": [
       "<div>\n",
       "<style scoped>\n",
       "    .dataframe tbody tr th:only-of-type {\n",
       "        vertical-align: middle;\n",
       "    }\n",
       "\n",
       "    .dataframe tbody tr th {\n",
       "        vertical-align: top;\n",
       "    }\n",
       "\n",
       "    .dataframe thead th {\n",
       "        text-align: right;\n",
       "    }\n",
       "</style>\n",
       "<table border=\"1\" class=\"dataframe\">\n",
       "  <thead>\n",
       "    <tr style=\"text-align: right;\">\n",
       "      <th></th>\n",
       "      <th>Simulation number</th>\n",
       "      <th>Number of iterations</th>\n",
       "      <th>error</th>\n",
       "    </tr>\n",
       "  </thead>\n",
       "  <tbody>\n",
       "    <tr>\n",
       "      <th>0</th>\n",
       "      <td>random simulation 1</td>\n",
       "      <td>233</td>\n",
       "      <td>0.197080</td>\n",
       "    </tr>\n",
       "    <tr>\n",
       "      <th>1</th>\n",
       "      <td>random simulation 2</td>\n",
       "      <td>375</td>\n",
       "      <td>0.195727</td>\n",
       "    </tr>\n",
       "    <tr>\n",
       "      <th>2</th>\n",
       "      <td>random simulation 3</td>\n",
       "      <td>501</td>\n",
       "      <td>9.086334</td>\n",
       "    </tr>\n",
       "    <tr>\n",
       "      <th>3</th>\n",
       "      <td>random simulation 4</td>\n",
       "      <td>180</td>\n",
       "      <td>0.197097</td>\n",
       "    </tr>\n",
       "    <tr>\n",
       "      <th>4</th>\n",
       "      <td>random simulation 5</td>\n",
       "      <td>157</td>\n",
       "      <td>0.195732</td>\n",
       "    </tr>\n",
       "    <tr>\n",
       "      <th>5</th>\n",
       "      <td>with Kmeans</td>\n",
       "      <td>135</td>\n",
       "      <td>0.195739</td>\n",
       "    </tr>\n",
       "  </tbody>\n",
       "</table>\n",
       "</div>"
      ],
      "text/plain": [
       "     Simulation number  Number of iterations     error\n",
       "0  random simulation 1                   233  0.197080\n",
       "1  random simulation 2                   375  0.195727\n",
       "2  random simulation 3                   501  9.086334\n",
       "3  random simulation 4                   180  0.197097\n",
       "4  random simulation 5                   157  0.195732\n",
       "5          with Kmeans                   135  0.195739"
      ]
     },
     "execution_count": 92,
     "metadata": {},
     "output_type": "execute_result"
    }
   ],
   "source": [
    "results"
   ]
  },
  {
   "cell_type": "markdown",
   "metadata": {},
   "source": [
    "##### <font color='color'> strat from an initialization near to the real parameters </font>\n"
   ]
  },
  {
   "cell_type": "code",
   "execution_count": 93,
   "metadata": {},
   "outputs": [
    {
     "data": {
      "application/vnd.jupyter.widget-view+json": {
       "model_id": "dedd912494ac4723a887db2e54140c6f",
       "version_major": 2,
       "version_minor": 0
      },
      "text/plain": [
       "HBox(children=(IntProgress(value=0, max=500), HTML(value='')))"
      ]
     },
     "metadata": {},
     "output_type": "display_data"
    }
   ],
   "source": [
    "pi0 = np.array([0.27,0.19,0.54])\n",
    "d = xn.shape[1]\n",
    "mu0 = [[0.1, 0.05], [1.05, 2.1], [2.01, 0.01]]\n",
    "\n",
    "sigma0 = [[[1, -0.24], [-0.24, 0.51]],\n",
    " [[0.51, 0.26], [0.251, 0.51]],\n",
    " [[0.51, -0.26], [-0.252, 1.01]]]\n",
    "\n",
    "t_max = 500\n",
    "pi_eval, mu_eval, sigma_eval, gamma, log_likelihood = EM_algorithm(xn, K, pi0, mu0, sigma0, t_max)"
   ]
  },
  {
   "cell_type": "code",
   "execution_count": 94,
   "metadata": {},
   "outputs": [],
   "source": [
    "nb_step = len(pi_eval)\n",
    "\n",
    "#error\n",
    "estimated_pi = pi_eval[-1]\n",
    "estimated_mean = mu_eval[-1]\n",
    "estimated_cov = sigma_eval[-1]\n",
    "# to compare the estimated results with the real ones, we need first to rearrange the vectors : \n",
    "indices = np.argsort(estimated_mean, axis = 0)[:,0]\n",
    "estimated_mean = estimated_mean[indices]\n",
    "estimated_cov = np.array(estimated_cov)[indices]\n",
    "estimated_pi = estimated_pi[indices]\n",
    "\n",
    "norm = 0\n",
    "for k in range(K):\n",
    "    norm += np.linalg.norm( estimated_cov[k] - sigma[k] )**2\n",
    "    norm += np.linalg.norm(estimated_mean[k] - mu[k])**2\n",
    "\n",
    "norm += np.linalg.norm(estimated_pi - pi)**2\n",
    "error = norm"
   ]
  },
  {
   "cell_type": "code",
   "execution_count": 95,
   "metadata": {},
   "outputs": [],
   "source": [
    "results.loc[len(results)] = ['near initialization', len(pi_eval), error]"
   ]
  },
  {
   "cell_type": "code",
   "execution_count": 96,
   "metadata": {
    "scrolled": true
   },
   "outputs": [
    {
     "data": {
      "text/html": [
       "<div>\n",
       "<style scoped>\n",
       "    .dataframe tbody tr th:only-of-type {\n",
       "        vertical-align: middle;\n",
       "    }\n",
       "\n",
       "    .dataframe tbody tr th {\n",
       "        vertical-align: top;\n",
       "    }\n",
       "\n",
       "    .dataframe thead th {\n",
       "        text-align: right;\n",
       "    }\n",
       "</style>\n",
       "<table border=\"1\" class=\"dataframe\">\n",
       "  <thead>\n",
       "    <tr style=\"text-align: right;\">\n",
       "      <th></th>\n",
       "      <th>Simulation number</th>\n",
       "      <th>Number of iterations</th>\n",
       "      <th>error</th>\n",
       "    </tr>\n",
       "  </thead>\n",
       "  <tbody>\n",
       "    <tr>\n",
       "      <th>0</th>\n",
       "      <td>random simulation 1</td>\n",
       "      <td>233</td>\n",
       "      <td>0.197080</td>\n",
       "    </tr>\n",
       "    <tr>\n",
       "      <th>1</th>\n",
       "      <td>random simulation 2</td>\n",
       "      <td>375</td>\n",
       "      <td>0.195727</td>\n",
       "    </tr>\n",
       "    <tr>\n",
       "      <th>2</th>\n",
       "      <td>random simulation 3</td>\n",
       "      <td>501</td>\n",
       "      <td>9.086334</td>\n",
       "    </tr>\n",
       "    <tr>\n",
       "      <th>3</th>\n",
       "      <td>random simulation 4</td>\n",
       "      <td>180</td>\n",
       "      <td>0.197097</td>\n",
       "    </tr>\n",
       "    <tr>\n",
       "      <th>4</th>\n",
       "      <td>random simulation 5</td>\n",
       "      <td>157</td>\n",
       "      <td>0.195732</td>\n",
       "    </tr>\n",
       "    <tr>\n",
       "      <th>5</th>\n",
       "      <td>with Kmeans</td>\n",
       "      <td>135</td>\n",
       "      <td>0.195739</td>\n",
       "    </tr>\n",
       "    <tr>\n",
       "      <th>6</th>\n",
       "      <td>near initialization</td>\n",
       "      <td>125</td>\n",
       "      <td>0.195715</td>\n",
       "    </tr>\n",
       "  </tbody>\n",
       "</table>\n",
       "</div>"
      ],
      "text/plain": [
       "     Simulation number  Number of iterations     error\n",
       "0  random simulation 1                   233  0.197080\n",
       "1  random simulation 2                   375  0.195727\n",
       "2  random simulation 3                   501  9.086334\n",
       "3  random simulation 4                   180  0.197097\n",
       "4  random simulation 5                   157  0.195732\n",
       "5          with Kmeans                   135  0.195739\n",
       "6  near initialization                   125  0.195715"
      ]
     },
     "execution_count": 96,
     "metadata": {},
     "output_type": "execute_result"
    }
   ],
   "source": [
    "results"
   ]
  },
  {
   "cell_type": "markdown",
   "metadata": {},
   "source": [
    "##### <font color='color'> Interpretation </font>\n"
   ]
  },
  {
   "cell_type": "markdown",
   "metadata": {},
   "source": [
    "We can see that EM algorithm is very sensitive to the initialization in term of iterations number. In this simulations we saw that we had : \n",
    "\n",
    "| Simulation | Number of iterations | error |\n",
    "| --- | --- | --- |\n",
    "| random simulation 1 | 233 | 0.197080 |\n",
    "| random simulation 2 | 375 | 0.195727 |\n",
    "| random simulation 3 | 501 | 9.086334 |\n",
    "| random simulation 4 | 180 | 0.197097 |\n",
    "| random simulation 5 | 157 | 0.195732 |\n",
    "| Kmeans initialization | 135 | 0.195739 |\n",
    "| near  initialization| 125 | 0.195715 |\n",
    "\n",
    "* We can see here that simulations takes from 125 iterations to the fixed maximum 501 iterations. We can see that the 3rd random simulation took 501 iterations and did not convergence. This is due to a bad randomly-generated initialization. \n",
    "\n",
    "\n",
    "* In term of infered parameters, all the simulations (except of the 3rd one) gave nearly the same result.\n",
    "\n",
    "\n",
    "* Using Kmeans to initialize the parameters is known as a good solution. Here we can see a small effect on the iterations number."
   ]
  },
  {
   "cell_type": "code",
   "execution_count": null,
   "metadata": {},
   "outputs": [],
   "source": []
  }
 ],
 "metadata": {
  "kernelspec": {
   "display_name": "Python 3",
   "language": "python",
   "name": "python3"
  },
  "language_info": {
   "codemirror_mode": {
    "name": "ipython",
    "version": 3
   },
   "file_extension": ".py",
   "mimetype": "text/x-python",
   "name": "python",
   "nbconvert_exporter": "python",
   "pygments_lexer": "ipython3",
   "version": "3.6.5"
  }
 },
 "nbformat": 4,
 "nbformat_minor": 2
}
